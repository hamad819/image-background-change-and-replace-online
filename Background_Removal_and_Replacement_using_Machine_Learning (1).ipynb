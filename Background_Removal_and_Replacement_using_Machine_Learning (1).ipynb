{
  "cells": [
    {
      "cell_type": "code",
      "execution_count": 1,
      "metadata": {
        "id": "ljNCMq84E0rb"
      },
      "outputs": [],
      "source": [
        "# https://github.com/danielgatis/rembg\n",
        "# https://arxiv.org/pdf/2005.09007.pdf\n",
        "\n",
        "# !pip install rembg"
      ]
    },
    {
      "cell_type": "code",
      "execution_count": 2,
      "metadata": {
        "id": "k-7lhXjLi2yc"
      },
      "outputs": [],
      "source": [
        "# !pip install -U pillow"
      ]
    },
    {
      "cell_type": "code",
      "execution_count": 1,
      "metadata": {
        "id": "Ef_TxOMRQlEW"
      },
      "outputs": [
        {
          "name": "stderr",
          "output_type": "stream",
          "text": [
            "c:\\Users\\laxmi\\anaconda3\\lib\\site-packages\\paramiko\\transport.py:219: CryptographyDeprecationWarning: Blowfish has been deprecated\n",
            "  \"class\": algorithms.Blowfish,\n"
          ]
        }
      ],
      "source": [
        "from rembg import remove\n",
        "import requests\n",
        "from PIL import Image\n",
        "from io import BytesIO\n",
        "import os"
      ]
    },
    {
      "cell_type": "code",
      "execution_count": 2,
      "metadata": {
        "id": "KNYcWrYnhaJk"
      },
      "outputs": [],
      "source": [
        "os.makedirs('original', exist_ok=True)\n",
        "os.makedirs('masked', exist_ok=True)"
      ]
    },
    {
      "cell_type": "code",
      "execution_count": 3,
      "metadata": {
        "colab": {
          "base_uri": "https://localhost:8080/",
          "height": 35
        },
        "id": "qOFshk-Whofm",
        "outputId": "a0c4e1cc-de00-48eb-ce6f-091a4c138241"
      },
      "outputs": [
        {
          "data": {
            "text/plain": [
              "'National-Horse-Day-1-640x514.jpg'"
            ]
          },
          "execution_count": 3,
          "metadata": {},
          "output_type": "execute_result"
        }
      ],
      "source": [
        "img_url = 'https://nationaltoday.com/wp-content/uploads/2020/12/National-Horse-Day-1-640x514.jpg'\n",
        "img_name = img_url.split('/')[-1]\n",
        "img_name"
      ]
    },
    {
      "cell_type": "code",
      "execution_count": 4,
      "metadata": {
        "id": "nndO6jBpiAPu"
      },
      "outputs": [],
      "source": [
        "img = Image.open(BytesIO(requests.get(img_url).content))\n",
        "img.save('original/'+img_name, format='jpeg')"
      ]
    },
    {
      "cell_type": "code",
      "execution_count": 5,
      "metadata": {
        "colab": {
          "base_uri": "https://localhost:8080/",
          "height": 35
        },
        "id": "_4IhOeQGjIRD",
        "outputId": "62892874-a5be-4b08-e8ef-e54185eaaaec"
      },
      "outputs": [
        {
          "data": {
            "text/plain": [
              "'masked/National-Horse-Day-1-640x514.jpg'"
            ]
          },
          "execution_count": 5,
          "metadata": {},
          "output_type": "execute_result"
        }
      ],
      "source": [
        "output_path = 'masked/'+img_name\n",
        "output_path"
      ]
    },
    {
      "cell_type": "code",
      "execution_count": 6,
      "metadata": {
        "id": "ZnX0vnOVjYEQ"
      },
      "outputs": [],
      "source": [
        "with open(output_path, 'wb') as f:\n",
        "  input = open('original/'+img_name, 'rb').read()\n",
        "  subject = remove(input, alpha_matting=True, alpha_matting_foreground_threshold=50)\n",
        "  f.write(subject)"
      ]
    },
    {
      "cell_type": "code",
      "execution_count": 15,
      "metadata": {
        "id": "5558C8C7jYBb"
      },
      "outputs": [],
      "source": [
        "background_img = 'https://iso.500px.com/wp-content/uploads/2014/07/big-one.jpg'\n",
        "background_img = Image.open(BytesIO(requests.get(background_img).content))\n",
        "\n",
        "background_img = background_img.resize((img.width, img.height))\n",
        "\n",
        "foreground_img = Image.open(output_path)\n",
        "background_img.paste(foreground_img, (0,0), foreground_img)\n",
        "background_img.save('masked/background.jpg', format='jpeg')"
      ]
    },
    {
      "cell_type": "code",
      "execution_count": null,
      "metadata": {
        "id": "8FiCmVdMjX8V"
      },
      "outputs": [],
      "source": []
    }
  ],
  "metadata": {
    "colab": {
      "provenance": []
    },
    "kernelspec": {
      "display_name": "Python 3",
      "name": "python3"
    },
    "language_info": {
      "codemirror_mode": {
        "name": "ipython",
        "version": 3
      },
      "file_extension": ".py",
      "mimetype": "text/x-python",
      "name": "python",
      "nbconvert_exporter": "python",
      "pygments_lexer": "ipython3",
      "version": "3.9.13"
    }
  },
  "nbformat": 4,
  "nbformat_minor": 0
}
